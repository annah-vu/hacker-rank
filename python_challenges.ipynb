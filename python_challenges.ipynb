{
 "cells": [
  {
   "cell_type": "markdown",
   "id": "a9a68682-c369-48bd-b606-489d9e792e7e",
   "metadata": {},
   "source": [
    "Print \"Hello, World!\""
   ]
  },
  {
   "cell_type": "code",
   "execution_count": 1,
   "id": "5e1590f1-de3a-468a-b4b3-05466bd089ab",
   "metadata": {},
   "outputs": [
    {
     "name": "stdout",
     "output_type": "stream",
     "text": [
      "Hello, World!\n"
     ]
    }
   ],
   "source": [
    "print('Hello, World!')"
   ]
  },
  {
   "cell_type": "markdown",
   "id": "0b9cb2b9-38c2-454f-b5ed-5dae27ec673e",
   "metadata": {},
   "source": [
    "Given an integer, n , perform the following conditional actions:\n",
    " - If n is odd, print Weird\n",
    " - If n is even and in the inclusive range of 2 to 5, print Not Weird\n",
    " - If n is even and in the inclusive range of 6 to 20, print Weird\n",
    " - If n is even and greater than 20, print Not Weird"
   ]
  },
  {
   "cell_type": "code",
   "execution_count": 7,
   "id": "97dafcb5-3bcf-491e-9d5f-e071f83cb087",
   "metadata": {},
   "outputs": [
    {
     "name": "stdout",
     "output_type": "stream",
     "text": [
      "Weird\n"
     ]
    }
   ],
   "source": [
    "n=3\n",
    "if n %2 != 0:\n",
    "    print('Weird')\n",
    "else:\n",
    "    if n >=2 and n <=5:\n",
    "        print('Not Weird')\n",
    "    elif n >=6 and n <=20:\n",
    "        print('Weird')\n",
    "    elif n >20:\n",
    "        print('Not Weird')"
   ]
  },
  {
   "cell_type": "markdown",
   "id": "cb26f94d-8f39-49ad-8420-1ea98a2b0a22",
   "metadata": {},
   "source": [
    "The provided code stub reads two integers from STDIN, a and b. Add code to print three lines where:\n",
    " - The first line contains the sum of the two numbers.\n",
    " - The second line contains the difference of the two numbers (first - second).\n",
    " - The third line contains the product of the two numbers."
   ]
  },
  {
   "cell_type": "code",
   "execution_count": 8,
   "id": "c5ecf860-335b-42bf-b07e-873a501078f6",
   "metadata": {},
   "outputs": [
    {
     "name": "stdout",
     "output_type": "stream",
     "text": [
      "5\n",
      "1\n",
      "6\n"
     ]
    }
   ],
   "source": [
    "a=3\n",
    "b=2\n",
    "print(a+b)\n",
    "print(a-b)\n",
    "print(a*b)"
   ]
  },
  {
   "cell_type": "markdown",
   "id": "2e5f6baa-c19c-425c-b1dd-1ff1a859bf8c",
   "metadata": {},
   "source": [
    "The provided code stub reads two integers, a and b , from STDIN.\n",
    " - Add logic to print two lines. The first line should contain the result of integer division, a // b. The second line should contain the result of float division, a / b.\n",
    " - No rounding or formatting is necessary."
   ]
  },
  {
   "cell_type": "code",
   "execution_count": 9,
   "id": "b18f3de1-3bd9-4285-8519-828975bb81fa",
   "metadata": {},
   "outputs": [
    {
     "name": "stdout",
     "output_type": "stream",
     "text": [
      "1\n",
      "1.5\n"
     ]
    }
   ],
   "source": [
    "print(a//b)\n",
    "print(a/b)"
   ]
  },
  {
   "cell_type": "markdown",
   "id": "613682e1-bab0-425a-ac63-8a88b06c9448",
   "metadata": {},
   "source": [
    "The provided code stub reads and integer, n, from STDIN. For all non-negative integers i <n , print i^2."
   ]
  },
  {
   "cell_type": "code",
   "execution_count": 10,
   "id": "e1ce9c37-1fd2-419c-a48f-e74ed24c1c7d",
   "metadata": {},
   "outputs": [
    {
     "name": "stdout",
     "output_type": "stream",
     "text": [
      "0\n",
      "1\n",
      "4\n",
      "9\n",
      "16\n"
     ]
    }
   ],
   "source": [
    "n=5\n",
    "for i in range(0,n):\n",
    "    print (i**2)"
   ]
  },
  {
   "cell_type": "code",
   "execution_count": null,
   "id": "ed4a6d01-8f9b-47dc-b573-c5f0ce2d3326",
   "metadata": {},
   "outputs": [],
   "source": []
  }
 ],
 "metadata": {
  "kernelspec": {
   "display_name": "Python 3",
   "language": "python",
   "name": "python3"
  },
  "language_info": {
   "codemirror_mode": {
    "name": "ipython",
    "version": 3
   },
   "file_extension": ".py",
   "mimetype": "text/x-python",
   "name": "python",
   "nbconvert_exporter": "python",
   "pygments_lexer": "ipython3",
   "version": "3.8.5"
  }
 },
 "nbformat": 4,
 "nbformat_minor": 5
}
